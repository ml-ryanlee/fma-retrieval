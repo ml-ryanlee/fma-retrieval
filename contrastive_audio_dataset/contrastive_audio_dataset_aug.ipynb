{
 "cells": [
  {
   "cell_type": "code",
   "execution_count": null,
   "id": "6ab63aa7",
   "metadata": {},
   "outputs": [],
   "source": [
    "import numpy as np\n",
    "from torch.utils.data import Dataset\n",
    "import librosa\n",
    "import soundfile as sf\n",
    "import random\n",
    "\n",
    "import matplotlib.pyplot as plt\n",
    "import audiomentations as am\n",
    "import IPython.display as ipd\n",
    "# import torch_audiomentations as ta"
   ]
  },
  {
   "cell_type": "code",
   "execution_count": null,
   "id": "41256995",
   "metadata": {},
   "outputs": [],
   "source": [
    "class ContrastiveAudioDataset(Dataset):\n",
    "    def __init__(self, dataset, sample_rate=44100):\n",
    "        \"\"\"\n",
    "        Args:\n",
    "            dataset: The dataset to be used (expecting free-music-archive-retrieval).\n",
    "            sample_rate: The target sample rate.\n",
    "        \"\"\"\n",
    "        self.dataset = dataset\n",
    "        self.sample_rate = sample_rate\n",
    "\n",
    "        self.audiomentations = am.Compose([\n",
    "            am.AdjustDuration(duration_seconds=5.0, p=1),\n",
    "            am.OneOf([\n",
    "                # am.AddBackgroundNoise(p=1),\n",
    "                am.Gain(min_gain_db=-10, max_gain_db=5, p=1),\n",
    "                am.AddGaussianNoise(min_amplitude=0.01, max_amplitude=0.03, p=1),\n",
    "                am.OneOf([\n",
    "                    am.HighPassFilter(min_cutoff_freq=500, max_cutoff_freq=1000, p=1),\n",
    "                    am.BandPassFilter(min_center_freq=500, max_center_freq=1000, p=1),\n",
    "                    am.BandStopFilter(min_center_freq=500, max_center_freq=1000, p=1),\n",
    "                    am.LowPassFilter(min_cutoff_freq=500, max_cutoff_freq=1000, p=1),\n",
    "                ], p=1),\n",
    "                am.PolarityInversion(p=1),\n",
    "                am.TimeStretch(min_rate=0.8, max_rate=1.25, p=1),\n",
    "                am.TimeMask(min_band_part=0.1, max_band_part=0.2, p=1),\n",
    "                am.PitchShift(min_semitones=-4, max_semitones=4, p=1),\n",
    "            ], p=1,)\n",
    "        ])\n",
    "\n",
    "    def __len__(self):\n",
    "        return len(self.dataset)\n",
    "    \n",
    "    def __getitem__(self, idx):\n",
    "        try:\n",
    "            sample = self.dataset[idx]\n",
    "\n",
    "            # Process original audio\n",
    "            audio_data = sample[\"audio\"][\"array\"]\n",
    "            if(self.sample_rate != 44100):\n",
    "                audio_data = librosa.resample(audio_data, orig_sr=44100, target_sr=self.sample_rate)\n",
    "\n",
    "            if(random.random() < 1/8):\n",
    "                # use existed q_audio_back for background noise\n",
    "                transformed = librosa.resample(sample[\"q_audio_back\"][\"array\"], orig_sr=44100, target_sr=self.sample_rate)\n",
    "            else:\n",
    "                # apply other transformation\n",
    "                transformed = self.audiomentations(audio_data, sample_rate=self.sample_rate)\n",
    "\n",
    "            return {\n",
    "                \"original\": audio_data,\n",
    "                \"transformed\": transformed,\n",
    "            }\n",
    "        except Exception as e:\n",
    "            print(f\"Error processing sample {idx}: {e}\")\n",
    "            # Return a valid sample with zeros if there's an error\n",
    "            return {\n",
    "                \"original\": np.zeros(5 * self.sample_rate),\n",
    "                \"transformed\": np.zeros(5 * self.sample_rate),\n",
    "            }"
   ]
  },
  {
   "cell_type": "markdown",
   "id": "3d5c286b",
   "metadata": {},
   "source": [
    "## Demo"
   ]
  },
  {
   "cell_type": "code",
   "execution_count": null,
   "id": "5df18403",
   "metadata": {},
   "outputs": [],
   "source": [
    "sample, sr = librosa.load(\"example.wav\", sr=44100)\n",
    "\n",
    "# test audiomeantations\n",
    "def test_audiomentations(aug: am.Compose, audio_data: np.ndarray, sample_rate: int):\n",
    "    # Convert to float32\n",
    "    audio_data = audio_data.astype(np.float32)\n",
    "\n",
    "    # Apply transformations\n",
    "    transformed_audio = aug(samples=audio_data, sample_rate=sample_rate)\n",
    "    return transformed_audio\n",
    "\n",
    "def compare_spectrogram(sample, processed):\n",
    "    S = librosa.stft(sample)\n",
    "    S2 = librosa.stft(processed)\n",
    "    plt.figure(figsize=(12, 8))\n",
    "    plt.subplot(2, 1, 1)\n",
    "    librosa.display.specshow(librosa.amplitude_to_db(np.abs(S), ref=np.max), y_axis='log', x_axis='time')\n",
    "    plt.title('Original Audio')\n",
    "    plt.colorbar(format='%+2.0f dB')\n",
    "    plt.subplot(2, 1, 2)\n",
    "    librosa.display.specshow(librosa.amplitude_to_db(np.abs(S2), ref=np.max), y_axis='log', x_axis='time')\n",
    "    plt.title('Processed Audio')\n",
    "    plt.colorbar(format='%+2.0f dB')\n",
    "    plt.tight_layout()\n",
    "    plt.show()\n",
    "\n",
    "print(\"Original Audio:\")\n",
    "ipd.Audio(sample, rate=sr, normalize=False)"
   ]
  },
  {
   "cell_type": "code",
   "execution_count": null,
   "id": "ce27b6ad",
   "metadata": {},
   "outputs": [],
   "source": [
    "print(\"Gain:\")\n",
    "# aug = am.Gain(min_gain_db=-10, max_gain_db=5, p=1)\n",
    "aug = am.Gain(min_gain_db=-10, max_gain_db=-10, p=1)\n",
    "processed = test_audiomentations(aug, sample, 44100)\n",
    "sf.write(\"processed.wav\", processed, 44100)\n",
    "ipd.Audio(processed, rate=sr, normalize=False)"
   ]
  },
  {
   "cell_type": "code",
   "execution_count": null,
   "id": "ce20da49",
   "metadata": {},
   "outputs": [],
   "source": [
    "print(\"GaussianNoise:\")\n",
    "aug = am.AddGaussianNoise(min_amplitude=0.01, max_amplitude=0.03, p=1)\n",
    "# aug = am.AddGaussianNoise(min_amplitude=0.01, max_amplitude=0.01, p=1)\n",
    "# aug = am.AddGaussianNoise(min_amplitude=0.03, max_amplitude=0.03, p=1)\n",
    "processed = test_audiomentations(aug, sample, 44100)\n",
    "sf.write(\"processed.wav\", processed, 44100)\n",
    "compare_spectrogram(sample, processed)\n",
    "ipd.Audio(processed, rate=sr)"
   ]
  },
  {
   "cell_type": "code",
   "execution_count": null,
   "id": "c4823745",
   "metadata": {},
   "outputs": [],
   "source": [
    "print(\"HighPassFilter:\")\n",
    "aug = am.HighPassFilter(min_cutoff_freq=500, max_cutoff_freq=1000, p=1)\n",
    "# aug = am.HighPassFilter(min_cutoff_freq=500, max_cutoff_freq=500, p=1)\n",
    "# aug = am.HighPassFilter(min_cutoff_freq=1000, max_cutoff_freq=1000, p=1)\n",
    "processed = test_audiomentations(aug, sample, 44100)\n",
    "sf.write(\"processed.wav\", processed, 44100)\n",
    "# compare_spectrogram(sample, processed)\n",
    "ipd.Audio(processed, rate=sr)"
   ]
  },
  {
   "cell_type": "code",
   "execution_count": null,
   "id": "61bfd83c",
   "metadata": {},
   "outputs": [],
   "source": [
    "print(\"LowPassFilter:\")\n",
    "aug = am.LowPassFilter(min_cutoff_freq=500, max_cutoff_freq=1000, p=1)\n",
    "# aug = am.LowPassFilter(min_cutoff_freq=500, max_cutoff_freq=500, p=1)\n",
    "# aug = am.LowPassFilter(min_cutoff_freq=1000, max_cutoff_freq=1000, p=1)\n",
    "processed = test_audiomentations(aug, sample, 44100)\n",
    "sf.write(\"processed.wav\", processed, 44100)\n",
    "compare_spectrogram(sample, processed)\n",
    "ipd.Audio(processed, rate=sr)"
   ]
  },
  {
   "cell_type": "code",
   "execution_count": null,
   "id": "e509e2c8",
   "metadata": {},
   "outputs": [],
   "source": [
    "print(\"BandPassFilter:\")\n",
    "aug = am.BandPassFilter(min_center_freq=500, max_center_freq=1000, p=1)\n",
    "# aug = am.BandPassFilter(min_center_freq=500, max_center_freq=500, p=1)\n",
    "# aug = am.BandPassFilter(min_center_freq=1000, max_center_freq=1000, p=1)\n",
    "processed = test_audiomentations(aug, sample, 44100)\n",
    "sf.write(\"processed.wav\", processed, 44100)\n",
    "compare_spectrogram(sample, processed)\n",
    "ipd.Audio(processed, rate=sr)"
   ]
  },
  {
   "cell_type": "code",
   "execution_count": null,
   "id": "0b302fef",
   "metadata": {},
   "outputs": [],
   "source": [
    "print(\"BandStopFilter:\")\n",
    "aug = am.BandStopFilter(min_center_freq=500, max_center_freq=1000, p=1)\n",
    "# aug = am.BandStopFilter(min_center_freq=500, max_center_freq=500, p=1)\n",
    "# aug = am.BandStopFilter(min_center_freq=1000, max_center_freq=1000, p=1)\n",
    "processed = test_audiomentations(aug, sample, 44100)\n",
    "sf.write(\"processed.wav\", processed, 44100)\n",
    "compare_spectrogram(sample, processed)\n",
    "ipd.Audio(processed, rate=sr)"
   ]
  },
  {
   "cell_type": "code",
   "execution_count": null,
   "id": "e2463471",
   "metadata": {},
   "outputs": [],
   "source": [
    "print(\"PolarityInversion:\")\n",
    "aug = am.PolarityInversion(p=1)\n",
    "processed = test_audiomentations(aug, sample, 44100)\n",
    "sf.write(\"processed.wav\", processed, 44100)\n",
    "ipd.Audio(processed, rate=sr)"
   ]
  },
  {
   "cell_type": "code",
   "execution_count": null,
   "id": "f8d3d0b5",
   "metadata": {},
   "outputs": [],
   "source": [
    "print(\"TimeStretch:\")\n",
    "aug = am.TimeStretch(min_rate=0.8, max_rate=1.25, p=1)\n",
    "# aug = am.TimeStretch(min_rate=0.8, max_rate=0.8, p=1)\n",
    "# aug = am.TimeStretch(min_rate=1.25, max_rate=1.25, p=1)\n",
    "processed = test_audiomentations(aug, sample, 44100)\n",
    "sf.write(\"processed.wav\", processed, 44100)\n",
    "compare_spectrogram(sample, processed)\n",
    "ipd.Audio(processed, rate=sr)"
   ]
  },
  {
   "cell_type": "code",
   "execution_count": null,
   "id": "3b570070",
   "metadata": {},
   "outputs": [],
   "source": [
    "print(\"TimeMask:\")\n",
    "aug = am.TimeMask(min_band_part=0.1, max_band_part=0.2, p=1)\n",
    "# aug = am.TimeMask(min_band_part=0.1, max_band_part=0.1, p=1)\n",
    "# aug = am.TimeMask(min_band_part=0.2, max_band_part=0.2, p=1)\n",
    "processed = test_audiomentations(aug, sample, 44100)\n",
    "sf.write(\"processed.wav\", processed, 44100)\n",
    "compare_spectrogram(sample, processed)\n",
    "ipd.Audio(processed, rate=sr)"
   ]
  },
  {
   "cell_type": "code",
   "execution_count": null,
   "id": "8e3bbba1",
   "metadata": {},
   "outputs": [],
   "source": [
    "print(\"PitchShift:\")\n",
    "aug = am.PitchShift(min_semitones=-4, max_semitones=4, p=1)\n",
    "processed = test_audiomentations(aug, sample, 44100)\n",
    "sf.write(\"processed.wav\", processed, 44100)\n",
    "compare_spectrogram(sample, processed)\n",
    "ipd.Audio(processed, rate=sr)"
   ]
  },
  {
   "cell_type": "code",
   "execution_count": null,
   "id": "4ba28f52",
   "metadata": {},
   "outputs": [],
   "source": [
    "print(\"Adjust Durattion and apply one of them:\")\n",
    "aug = am.Compose([\n",
    "    am.AdjustDuration(duration_seconds=5.0, p=1),\n",
    "    am.OneOf([\n",
    "        # am.AddBackgroundNoise(p=1),\n",
    "        am.Gain(min_gain_db=-10, max_gain_db=5, p=1),\n",
    "        am.AddGaussianNoise(min_amplitude=0.01, max_amplitude=0.03, p=1),\n",
    "        am.OneOf([\n",
    "            am.HighPassFilter(min_cutoff_freq=500, max_cutoff_freq=1000, p=1),\n",
    "            am.BandPassFilter(min_center_freq=500, max_center_freq=1000, p=1),\n",
    "            am.BandStopFilter(min_center_freq=500, max_center_freq=1000, p=1),\n",
    "            am.LowPassFilter(min_cutoff_freq=500, max_cutoff_freq=1000, p=1),\n",
    "        ], p=1),\n",
    "        am.PolarityInversion(p=1),\n",
    "        am.TimeStretch(min_rate=0.8, max_rate=1.25, p=1),\n",
    "        am.TimeMask(min_band_part=0.1, max_band_part=0.2, p=1),\n",
    "        am.PitchShift(min_semitones=-4, max_semitones=4, p=1),\n",
    "    ], p=1,)\n",
    "])\n",
    "processed = test_audiomentations(aug, sample, 44100)\n",
    "sf.write(\"processed.wav\", processed, 44100)\n",
    "compare_spectrogram(sample, processed)\n",
    "ipd.Audio(processed, rate=sr)"
   ]
  }
 ],
 "metadata": {
  "kernelspec": {
   "display_name": "venv",
   "language": "python",
   "name": "python3"
  },
  "language_info": {
   "codemirror_mode": {
    "name": "ipython",
    "version": 3
   },
   "file_extension": ".py",
   "mimetype": "text/x-python",
   "name": "python",
   "nbconvert_exporter": "python",
   "pygments_lexer": "ipython3",
   "version": "3.10.16"
  }
 },
 "nbformat": 4,
 "nbformat_minor": 5
}
